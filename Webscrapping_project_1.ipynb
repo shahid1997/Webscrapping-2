{
 "cells": [
  {
   "cell_type": "markdown",
   "id": "e33ab5b0",
   "metadata": {},
   "source": [
    "## Scrapping Springer Science using Python and Beautiful Soup\n"
   ]
  },
  {
   "cell_type": "markdown",
   "id": "f8fda0d1",
   "metadata": {},
   "source": [
    "Springer Science the publisher of different journals and books with more than 2,900 journals and 300,000 books. Springer Science is one of the world's leading global research, educational and professional publishers, home to an array of respected and trusted brands providing quality content through a range of innovative products and services."
   ]
  },
  {
   "cell_type": "markdown",
   "id": "61dd2f86",
   "metadata": {},
   "source": [
    "The content from the the https://link.springer.com/ Springer can pulled using keyword for example If someone need to get the research papers on Computer Vision or Machine Learning or Internet of Things etc. You will go the website and search the required papers using the keyword and it pulls all the releevnt papers.\n",
    "\n",
    "![](https://i.imgur.com/adS0N6J.jpg)"
   ]
  },
  {
   "cell_type": "markdown",
   "id": "c6ca6cb5",
   "metadata": {},
   "source": [
    "## Project Outline\n",
    "\n",
    "  1. Download the webpage using the requests library and parse the html source cod using beautiful soup.\n",
    "  \n",
    "  2. Extract item such as paper title, author name, year of publication, repository URL.\n",
    "  \n",
    "  3. Compile the extracted information into python lists.\n",
    "  \n",
    "  4. Combine data from multiple pages.\n",
    "  \n",
    "  4. Save the extracted data to a csv(comma separated values) file."
   ]
  },
  {
   "cell_type": "markdown",
   "id": "8d7b83f0",
   "metadata": {},
   "source": [
    "## Project Goal\n",
    "\n",
    "The project goal is to build a web scraper that withdraws all desirable information and assemble them into a single CSV. The format of the output CSV file is shown below:\n",
    "\n",
    "![](https://imgur.com/N0aHqBr.jpg)\n"
   ]
  },
  {
   "cell_type": "markdown",
   "id": "68e1b34b",
   "metadata": {},
   "source": [
    ">### Packages Used:\n",
    ">1. Requests — For downloading the HTML code from the Springer URL\n",
    ">2. BeautifulSoup4 — For parsing and extracting data from the HTML string\n",
    ">3. Pandas — to gather my data into a dataframe for further processing"
   ]
  },
  {
   "cell_type": "markdown",
   "id": "70707eb8",
   "metadata": {},
   "source": [
    "We will use the `Jovian` library and its `commit()` function to save our work"
   ]
  },
  {
   "cell_type": "code",
   "execution_count": 1,
   "id": "624b20da",
   "metadata": {},
   "outputs": [],
   "source": [
    "!pip install jovian --upgrade --quiet"
   ]
  },
  {
   "cell_type": "code",
   "execution_count": 2,
   "id": "c1aa05dc",
   "metadata": {},
   "outputs": [],
   "source": [
    "import jovian"
   ]
  },
  {
   "cell_type": "markdown",
   "id": "0f9bf8b5",
   "metadata": {},
   "source": [
    "# 1. Downloading a web page using requests\n"
   ]
  },
  {
   "cell_type": "markdown",
   "id": "fc7eb3c0",
   "metadata": {},
   "source": [
    "We'll use a library called **requests** to download web pages "
   ]
  },
  {
   "cell_type": "code",
   "execution_count": 3,
   "id": "a2a5a516",
   "metadata": {},
   "outputs": [],
   "source": [
    "!pip install requests --upgrade --quiet"
   ]
  },
  {
   "cell_type": "code",
   "execution_count": 4,
   "id": "2fcdd5cd",
   "metadata": {},
   "outputs": [],
   "source": [
    "import requests"
   ]
  },
  {
   "cell_type": "markdown",
   "id": "dbeb1bc3",
   "metadata": {},
   "source": [
    "We have imported the request \n",
    "\n",
    "\n",
    "To downlaod the page, we can use the `get` functon from the requests"
   ]
  },
  {
   "cell_type": "code",
   "execution_count": 58,
   "id": "6143c895",
   "metadata": {},
   "outputs": [],
   "source": [
    "topic_url =  'https://link.springer.com/search?query=industry+4.0'\n",
    "response = requests.get(topic_url)"
   ]
  },
  {
   "cell_type": "markdown",
   "id": "fac439fe",
   "metadata": {},
   "source": [
    "Here we are checking the **Status code**, -> 200-299 will mean that the request was successful"
   ]
  },
  {
   "cell_type": "code",
   "execution_count": 119,
   "id": "699684b2",
   "metadata": {},
   "outputs": [
    {
     "data": {
      "text/plain": [
       "200"
      ]
     },
     "execution_count": 119,
     "metadata": {},
     "output_type": "execute_result"
    }
   ],
   "source": [
    "response.status_code\n"
   ]
  },
  {
   "cell_type": "markdown",
   "id": "ed4e95e4",
   "metadata": {},
   "source": [
    "We can get the contents of the page using"
   ]
  },
  {
   "cell_type": "code",
   "execution_count": 60,
   "id": "2e50c5bc",
   "metadata": {},
   "outputs": [],
   "source": [
    "page_content = response.text"
   ]
  },
  {
   "cell_type": "markdown",
   "id": "17427429",
   "metadata": {},
   "source": [
    "The `len` fucnction tells us the length of the response object"
   ]
  },
  {
   "cell_type": "code",
   "execution_count": 62,
   "id": "93e4aa84",
   "metadata": {
    "scrolled": true
   },
   "outputs": [
    {
     "data": {
      "text/plain": [
       "71644"
      ]
     },
     "execution_count": 62,
     "metadata": {},
     "output_type": "execute_result"
    }
   ],
   "source": [
    "len(page_content)"
   ]
  },
  {
   "cell_type": "markdown",
   "id": "dff661a9",
   "metadata": {},
   "source": [
    "Displaying the first 1000 characters of `page_contents`"
   ]
  },
  {
   "cell_type": "code",
   "execution_count": 63,
   "id": "bc504a24",
   "metadata": {},
   "outputs": [
    {
     "data": {
      "text/plain": [
       "'<!DOCTYPE html>\\n<!--[if lt IE 7]> <html lang=\"en\" class=\"no-js ie6 lt-ie10 lt-ie9 lt-ie8\"> <![endif]-->\\n<!--[if IE 7]>    <html lang=\"en\" class=\"no-js ie7 lt-ie10 lt-ie9 lt-ie8\"> <![endif]-->\\n<!--[if IE 8]>    <html lang=\"en\" class=\"no-js ie8 lt-ie10 lt-ie9\"> <![endif]-->\\n<!--[if IE 9]>    <html lang=\"en\" class=\"no-js ie9 lt-ie10\"> <![endif]-->\\n<!--[if gt IE 9]><!--> <html lang=\"en\" class=\"no-js\"> <!--<![endif]-->\\n<head>\\n  <meta charset=\"UTF-8\"/>\\n  <meta name=\"description\" content=\"\"/>\\n  <meta name=\"author\" content=\"\"/>\\n  <meta name=\"viewport\" content=\"width=device-width, minimum-scale=1, maximum-scale=1\"/>\\n  <meta name=\"format-detection\" content=\"telephone=no\"/>\\n  <meta name=\"robots\" content=\"noindex,follow\"/>\\n  <!--[if (gt IE 8) | (IEMobile)]><!--> <link rel=\"stylesheet\" media=\"screen\" href=\"/static/9e87700671f4a1203c14482a5d93ed498f4beca9/css/modern_link.min.css\"> <!--<![endif]-->\\n  <!--[if (lt IE 9) & (!IEMobile)]> <link rel=\"stylesheet\" media=\"screen\" href=\"/static/9e87700671f4a12'"
      ]
     },
     "execution_count": 63,
     "metadata": {},
     "output_type": "execute_result"
    }
   ],
   "source": [
    "page_content[: 1000]"
   ]
  },
  {
   "cell_type": "code",
   "execution_count": 130,
   "id": "77feabe7",
   "metadata": {},
   "outputs": [],
   "source": [
    "#jovian.commit()"
   ]
  },
  {
   "cell_type": "markdown",
   "id": "46bade9e",
   "metadata": {},
   "source": [
    "We save the text that we have got into a HTML file with open statement."
   ]
  },
  {
   "cell_type": "code",
   "execution_count": 127,
   "id": "147c1e78",
   "metadata": {},
   "outputs": [],
   "source": [
    "with open('Industry_4_0.html', 'w', encoding=\"utf-8\") as file:\n",
    "    file.write(page_content)"
   ]
  },
  {
   "cell_type": "markdown",
   "id": "7fd6c76e",
   "metadata": {},
   "source": [
    "We can see there are 412,183 relevant results found with the keyword Industry 4.0. \n",
    "\n",
    "![](https://imgur.com/7aqxlZG.jpg)"
   ]
  },
  {
   "cell_type": "code",
   "execution_count": 143,
   "id": "8e5fb189",
   "metadata": {},
   "outputs": [
    {
     "data": {
      "application/javascript": [
       "window.require && require([\"base/js/namespace\"],function(Jupyter){Jupyter.notebook.save_checkpoint()})"
      ],
      "text/plain": [
       "<IPython.core.display.Javascript object>"
      ]
     },
     "metadata": {},
     "output_type": "display_data"
    },
    {
     "name": "stdout",
     "output_type": "stream",
     "text": [
      "[jovian] Updating notebook \"mohammed-shahid920/webscrapping-project-1\" on https://jovian.ai/\n",
      "[jovian] Committed successfully! https://jovian.ai/mohammed-shahid920/webscrapping-project-1\n"
     ]
    },
    {
     "data": {
      "text/plain": [
       "'https://jovian.ai/mohammed-shahid920/webscrapping-project-1'"
      ]
     },
     "execution_count": 143,
     "metadata": {},
     "output_type": "execute_result"
    }
   ],
   "source": [
    "jovian.commit()"
   ]
  },
  {
   "cell_type": "markdown",
   "id": "42dcf93a",
   "metadata": {},
   "source": [
    "# 2. Inspecting the HTML source code of a web page\n"
   ]
  },
  {
   "cell_type": "markdown",
   "id": "9656c840",
   "metadata": {},
   "source": [
    "To view the source code of any webpage right within your browser, you can right click anywhere on a page and select the \"Inspect\" option. You access the \"Developer Tools\" mode, where you can see the source code as a tree. You can expand and collapse various nodes and find the source code for a specific portion of the page\n",
    "\n",
    "The inspect page with details\n",
    "![](https://imgur.com/acl7KZp.jpg)\n",
    "\n"
   ]
  },
  {
   "cell_type": "markdown",
   "id": "a8403ca0",
   "metadata": {},
   "source": [
    "We will be inspecting [HTML code] and using beautiful soup library to get the required details from the Springer website such as **paper title, author name, year of publication, and url link**."
   ]
  },
  {
   "cell_type": "markdown",
   "id": "e7b72fb2",
   "metadata": {},
   "source": [
    "Let's import the **Beautiful Soup library** and start our web Scraping project\n"
   ]
  },
  {
   "cell_type": "code",
   "execution_count": 66,
   "id": "4a9a747c",
   "metadata": {},
   "outputs": [],
   "source": [
    "#Install BeautifulSoup to retrieve data.\n",
    "!pip install beautifulsoup4 --upgrade --quiet"
   ]
  },
  {
   "cell_type": "markdown",
   "id": "cafb5361",
   "metadata": {},
   "source": [
    "We are opening the [HTML] file as an read using the open funtion."
   ]
  },
  {
   "cell_type": "code",
   "execution_count": 70,
   "id": "22b99235",
   "metadata": {},
   "outputs": [],
   "source": [
    "with open('Industry_4_0.html', 'r', encoding=\"utf-8\") as sp:\n",
    "    springer_page = sp.read()"
   ]
  },
  {
   "cell_type": "code",
   "execution_count": 71,
   "id": "cc891e71",
   "metadata": {},
   "outputs": [],
   "source": [
    "from bs4 import BeautifulSoup"
   ]
  },
  {
   "cell_type": "markdown",
   "id": "0d5093ff",
   "metadata": {},
   "source": [
    "To parse a document, pass it into the BeautifulSoup constructor.\n"
   ]
  },
  {
   "cell_type": "code",
   "execution_count": 72,
   "id": "430dd6b7",
   "metadata": {},
   "outputs": [],
   "source": [
    "doc = BeautifulSoup(springer_page, 'html.parser')"
   ]
  },
  {
   "cell_type": "markdown",
   "id": "ad40e584",
   "metadata": {},
   "source": [
    "Checking type of the **document and title** of the document."
   ]
  },
  {
   "cell_type": "code",
   "execution_count": 73,
   "id": "17293975",
   "metadata": {
    "scrolled": true
   },
   "outputs": [
    {
     "data": {
      "text/plain": [
       "bs4.BeautifulSoup"
      ]
     },
     "execution_count": 73,
     "metadata": {},
     "output_type": "execute_result"
    }
   ],
   "source": [
    "type(doc)"
   ]
  },
  {
   "cell_type": "code",
   "execution_count": 74,
   "id": "3fa27072",
   "metadata": {},
   "outputs": [
    {
     "data": {
      "text/plain": [
       "<title>Search Results - Springer</title>"
      ]
     },
     "execution_count": 74,
     "metadata": {},
     "output_type": "execute_result"
    }
   ],
   "source": [
    "doc.title"
   ]
  },
  {
   "cell_type": "markdown",
   "id": "2097707c",
   "metadata": {},
   "source": [
    "### Feteching relevant papers from Springer Science"
   ]
  },
  {
   "cell_type": "code",
   "execution_count": 75,
   "id": "d775b775",
   "metadata": {},
   "outputs": [],
   "source": [
    "def get_topic_springer(topic):\n",
    "    topic_repos_url = 'https://link.springer.com/search?query=' + topic\n",
    "    response = requests.get(topic_repos_url)\n",
    "    print(topic_repos_url)\n",
    "    if response.status_code !=200:\n",
    "        print(\"status code\", response.status_code)\n",
    "        raise Exception (\"Failed to fetch web page\", + topic_repos_url)\n",
    "    \n",
    "    doc = BeautifulSoup(response.text)\n",
    "    return doc"
   ]
  },
  {
   "cell_type": "markdown",
   "id": "4e85b6eb",
   "metadata": {},
   "source": [
    "We are going to search the topic -  **Internet of Things** on Springer Science. "
   ]
  },
  {
   "cell_type": "code",
   "execution_count": 76,
   "id": "38f8a461",
   "metadata": {
    "scrolled": false
   },
   "outputs": [
    {
     "name": "stdout",
     "output_type": "stream",
     "text": [
      "https://link.springer.com/search?query=Internet+of+things\n"
     ]
    }
   ],
   "source": [
    "doc = get_topic_springer('Internet+of+things')"
   ]
  },
  {
   "cell_type": "markdown",
   "id": "f52e5316",
   "metadata": {},
   "source": [
    "You reting to open the above URl, we will able sucessfully able to retrive the details of Internet Of Things from Springer Science.\n",
    "\n",
    "![](https://imgur.com/v5vmHCt.jpg)"
   ]
  },
  {
   "cell_type": "code",
   "execution_count": 77,
   "id": "c2d762f3",
   "metadata": {},
   "outputs": [
    {
     "name": "stdout",
     "output_type": "stream",
     "text": [
      "https://link.springer.com/search?query=Machine+Learning\n",
      "https://link.springer.com/search?query=Computer+vision\n"
     ]
    }
   ],
   "source": [
    "ML = get_topic_springer('Machine+Learning')\n",
    "CV = get_topic_springer('Computer+vision')"
   ]
  },
  {
   "cell_type": "markdown",
   "id": "cfe5be4a",
   "metadata": {},
   "source": [
    "We are able to get all the relevant papers using the keyword Machine Learning and Computer vision.\n",
    "\n",
    "![](https://imgur.com/E8kugJk.jpg=50x50)\n",
    "![](https://imgur.com/MZAcuY8.jpg=50x50)"
   ]
  },
  {
   "cell_type": "code",
   "execution_count": null,
   "id": "118d9576",
   "metadata": {},
   "outputs": [
    {
     "data": {
      "application/javascript": [
       "window.require && require([\"base/js/namespace\"],function(Jupyter){Jupyter.notebook.save_checkpoint()})"
      ],
      "text/plain": [
       "<IPython.core.display.Javascript object>"
      ]
     },
     "metadata": {},
     "output_type": "display_data"
    }
   ],
   "source": [
    "jovian.commit()"
   ]
  },
  {
   "cell_type": "markdown",
   "id": "d4b1a6b2",
   "metadata": {},
   "source": [
    "# 3. Parsing the HTML source code using Beautiful soup\n"
   ]
  },
  {
   "cell_type": "markdown",
   "id": "352169c5",
   "metadata": {},
   "source": [
    "Here we need to parse the [HTML] `source code`  get the **Paper title, Name of the Author, Year of Publication and the url link of the paper**"
   ]
  },
  {
   "cell_type": "markdown",
   "id": "d9fd4b3d",
   "metadata": {},
   "source": [
    "We will try to understand parsing:\n",
    " - Lets begin with opening the [HTML] file which is stored on the local machine.\n",
    " - We are opening the [HTML] file Industry_4_0.html as read.\n",
    " - Then we are parsing the [HTML] source code using `BeautifulSoup`"
   ]
  },
  {
   "cell_type": "code",
   "execution_count": 135,
   "id": "1d40449e",
   "metadata": {},
   "outputs": [
    {
     "data": {
      "text/plain": [
       "bs4.BeautifulSoup"
      ]
     },
     "execution_count": 135,
     "metadata": {},
     "output_type": "execute_result"
    }
   ],
   "source": [
    "with open('Industry_4_0.html', 'r', encoding=\"utf-8\") as sp:\n",
    "    springer_page = sp.read()\n",
    "doc = BeautifulSoup(springer_page, 'html.parser')\n",
    "type(doc)"
   ]
  },
  {
   "cell_type": "markdown",
   "id": "4f8b62ff",
   "metadata": {},
   "source": [
    "We have parsed the [HTML] source code and stored in doc variable and the type of doc variable is `bs4.BeautifulSoup`\n"
   ]
  },
  {
   "cell_type": "code",
   "execution_count": 80,
   "id": "6362b555",
   "metadata": {},
   "outputs": [],
   "source": [
    "# After insepection of HTML souce find we found all the required inforamtion stored in Div tag in HTML\n",
    "#Souce code so we are capturing the details\n",
    "\n",
    "# In article tags gets all the div tags on the page. \n",
    "\n",
    "article_tags = doc.find_all('div', class_='text')\n",
    "\n",
    "#Getting the first Article details from the souce code.\n",
    "article_tag = article_tags[0]\n",
    "\n",
    "\n",
    "# We are filtering out the required information from the div tag. here we are filtering out the h2 tag from the div tag.\n",
    "h_tag = article_tag.find('h2')\n",
    "\n",
    "\n",
    "# We are filtering out the required information from the div tag. here we are filtering out the a tag from the div tag.\n",
    "a_tag = h_tag.find_all('a', recursive = False)"
   ]
  },
  {
   "cell_type": "code",
   "execution_count": 81,
   "id": "8ebecb46",
   "metadata": {},
   "outputs": [
    {
     "data": {
      "text/plain": [
       "'https://link.springer.com/book/10.1007/978-1-4842-2047-4'"
      ]
     },
     "execution_count": 81,
     "metadata": {},
     "output_type": "execute_result"
    }
   ],
   "source": [
    "# to get the complete url link of the first article we are using base url + additional links\n",
    "# base url + addition links \n",
    "base_pep_url = \"https://link.springer.com\"\n",
    "pep_url = base_pep_url + a_tag[0]['href'].strip()\n",
    "pep_url"
   ]
  },
  {
   "cell_type": "markdown",
   "id": "49fa671f",
   "metadata": {},
   "source": [
    "We got the first article url link , lets grap the url link and try to open and check if it works. The above article is from the paper title Industry 4.0. Lets open the url link: https://link.springer.com/book/10.1007/978-1-4842-2047-4\n",
    " \n",
    "![](https://imgur.com/YFo3RUn.jpg)"
   ]
  },
  {
   "cell_type": "code",
   "execution_count": 82,
   "id": "b6a77b94",
   "metadata": {},
   "outputs": [
    {
     "data": {
      "text/plain": [
       "'https://link.springer.com/book/10.1007/978-981-13-8165-2'"
      ]
     },
     "execution_count": 82,
     "metadata": {},
     "output_type": "execute_result"
    }
   ],
   "source": [
    "article_tag = article_tags[2]\n",
    "h_tag = article_tag.find('h2')\n",
    "a_tag = h_tag.find_all('a', recursive = False)\n",
    "pep_url = base_pep_url + a_tag[0]['href'].strip()\n",
    "pep_url"
   ]
  },
  {
   "cell_type": "markdown",
   "id": "617ac12b",
   "metadata": {},
   "source": [
    "We are able to retrieve the second article url link as well.\n",
    "\n",
    "![](https://imgur.com/41Gr7xA.png)"
   ]
  },
  {
   "cell_type": "code",
   "execution_count": 83,
   "id": "6b487633",
   "metadata": {},
   "outputs": [
    {
     "data": {
      "text/plain": [
       "'Industry 4.0 and Engineering for a Sustainable Future'"
      ]
     },
     "execution_count": 83,
     "metadata": {},
     "output_type": "execute_result"
    }
   ],
   "source": [
    "#First artile title Tag\n",
    "article_7_title= article_tags[7].find('a', class_= 'title').text\n",
    "article_7_title"
   ]
  },
  {
   "cell_type": "code",
   "execution_count": 84,
   "id": "458a334f",
   "metadata": {},
   "outputs": [
    {
     "data": {
      "text/plain": [
       "'CT Scan Generated Material Twins for Composites Manufacturing in Industry 4.0'"
      ]
     },
     "execution_count": 84,
     "metadata": {},
     "output_type": "execute_result"
    }
   ],
   "source": [
    "article_8_title = article_tags[8].find('a', class_= 'title').text\n",
    "article_8_title"
   ]
  },
  {
   "cell_type": "code",
   "execution_count": 85,
   "id": "24e3c904",
   "metadata": {},
   "outputs": [
    {
     "data": {
      "text/plain": [
       "'Prof. Dr. Mohammad Dastbaz…'"
      ]
     },
     "execution_count": 85,
     "metadata": {},
     "output_type": "execute_result"
    }
   ],
   "source": [
    " article_7_authors = article_tags[7].find('span', class_='authors').text.strip() \n",
    "article_7_authors\n"
   ]
  },
  {
   "cell_type": "code",
   "execution_count": 86,
   "id": "a5e40ab9",
   "metadata": {},
   "outputs": [
    {
     "data": {
      "text/plain": [
       "'Dr. Muhammad A. Ali…'"
      ]
     },
     "execution_count": 86,
     "metadata": {},
     "output_type": "execute_result"
    }
   ],
   "source": [
    " article_8_authors = article_tags[8].find('span', class_='authors').text.strip() \n",
    "article_8_authors"
   ]
  },
  {
   "cell_type": "code",
   "execution_count": 87,
   "id": "27f625b8",
   "metadata": {},
   "outputs": [
    {
     "data": {
      "text/plain": [
       "'(2019)'"
      ]
     },
     "execution_count": 87,
     "metadata": {},
     "output_type": "execute_result"
    }
   ],
   "source": [
    "article_7_year = article_tags[7].find('span', class_= 'year').text\n",
    "article_7_year"
   ]
  },
  {
   "cell_type": "code",
   "execution_count": 88,
   "id": "17a062dd",
   "metadata": {},
   "outputs": [
    {
     "data": {
      "text/plain": [
       "'(2020)'"
      ]
     },
     "execution_count": 88,
     "metadata": {},
     "output_type": "execute_result"
    }
   ],
   "source": [
    "article_8_year = article_tags[8].find('span', class_= 'year').text\n",
    "article_8_year"
   ]
  },
  {
   "cell_type": "code",
   "execution_count": 91,
   "id": "13ba546c",
   "metadata": {},
   "outputs": [
    {
     "data": {
      "text/plain": [
       "'https://link.springer.com/book/10.1007/978-981-13-8165-2'"
      ]
     },
     "execution_count": 91,
     "metadata": {},
     "output_type": "execute_result"
    }
   ],
   "source": [
    "# Selecting the article 7 from bunch of articles\n",
    "article_tag = article_tags[7]\n",
    "article_7_url = base_pep_url + a_tag[0]['href'].strip()\n",
    "article_7_url"
   ]
  },
  {
   "cell_type": "markdown",
   "id": "95755b82",
   "metadata": {},
   "source": [
    "### Print the article 7 retrieved details\n",
    "\n",
    "Paper Title\n",
    "\n",
    "Author names\n",
    "\n",
    "Year of Publication\n",
    "\n",
    "URL link."
   ]
  },
  {
   "cell_type": "code",
   "execution_count": 92,
   "id": "5a28f0eb",
   "metadata": {},
   "outputs": [
    {
     "name": "stdout",
     "output_type": "stream",
     "text": [
      "Paper Title: Industry 4.0 and Engineering for a Sustainable Future\n",
      "Authors names Prof. Dr. Mohammad Dastbaz…\n",
      "Year of publication: (2019)\n",
      " URL Link: https://link.springer.com/book/10.1007/978-981-13-8165-2\n"
     ]
    }
   ],
   "source": [
    "print('Paper Title:', article_7_title)\n",
    "print(\"Authors names\", article_7_authors)\n",
    "print('Year of publication:', article_7_year)\n",
    "print(' URL Link:', article_7_url)"
   ]
  },
  {
   "cell_type": "markdown",
   "id": "330d8ddb",
   "metadata": {},
   "source": [
    "Let's automate the process and get all the page details using fuction."
   ]
  },
  {
   "cell_type": "code",
   "execution_count": 93,
   "id": "f4798d06",
   "metadata": {
    "scrolled": true
   },
   "outputs": [
    {
     "data": {
      "text/plain": [
       "<div class=\"text\">\n",
       "<h2>\n",
       "<a class=\"title\" href=\"/book/10.1007/978-3-030-12953-8\" title=\"\">Industry 4.0 and Engineering for a Sustainable Future</a>\n",
       "</h2>\n",
       "<p class=\"subtitle\"></p>\n",
       "<p class=\"meta\">\n",
       "<span class=\"authors\">\n",
       "<a href=\"/search?facet-creator=%22Prof.+Dr.+Mohammad+Dastbaz%22\">Prof. Dr. Mohammad Dastbaz</a><span title=\"Prof. Peter Cochrane\">…</span></span>\n",
       "<span class=\"enumeration\">\n",
       "<span class=\"year\" title=\"2019\">(2019)</span>\n",
       "</span>\n",
       "</p>\n",
       "<div class=\"actions\">\n",
       "<span class=\"action\">\n",
       "</span>\n",
       "</div>\n",
       "</div>"
      ]
     },
     "execution_count": 93,
     "metadata": {},
     "output_type": "execute_result"
    }
   ],
   "source": [
    "article_tag"
   ]
  },
  {
   "cell_type": "markdown",
   "id": "5c10d452",
   "metadata": {},
   "source": [
    "\n",
    "We are getting a tag which contains the title of the paper"
   ]
  },
  {
   "cell_type": "code",
   "execution_count": 94,
   "id": "1a207336",
   "metadata": {},
   "outputs": [
    {
     "data": {
      "text/plain": [
       "[<a class=\"title\" href=\"/book/10.1007/978-3-030-12953-8\" title=\"\">Industry 4.0 and Engineering for a Sustainable Future</a>]"
      ]
     },
     "execution_count": 94,
     "metadata": {},
     "output_type": "execute_result"
    }
   ],
   "source": [
    "a_tags = article_tag.h2.find_all('a')\n",
    "a_tags"
   ]
  },
  {
   "cell_type": "markdown",
   "id": "1b986d2e",
   "metadata": {},
   "source": [
    "We are getting the title of the paper by applying `.text.strip()` method."
   ]
  },
  {
   "cell_type": "code",
   "execution_count": 136,
   "id": "5cf84ccc",
   "metadata": {},
   "outputs": [
    {
     "data": {
      "text/plain": [
       "'Industry 4.0 and Engineering for a Sustainable Future'"
      ]
     },
     "execution_count": 136,
     "metadata": {},
     "output_type": "execute_result"
    }
   ],
   "source": [
    "title = a_tags[0].text.strip()\n",
    "title"
   ]
  },
  {
   "cell_type": "markdown",
   "id": "00713880",
   "metadata": {},
   "source": [
    "We can get author names, year of publication and url"
   ]
  },
  {
   "cell_type": "code",
   "execution_count": 96,
   "id": "690b8ce0",
   "metadata": {},
   "outputs": [
    {
     "data": {
      "text/plain": [
       "[<span class=\"authors\">\n",
       " <a href=\"/search?facet-creator=%22Prof.+Dr.+Mohammad+Dastbaz%22\">Prof. Dr. Mohammad Dastbaz</a><span title=\"Prof. Peter Cochrane\">…</span></span>]"
      ]
     },
     "execution_count": 96,
     "metadata": {},
     "output_type": "execute_result"
    }
   ],
   "source": [
    "auth_tag = article_tag.find_all('span', class_='authors')\n",
    "auth_tag"
   ]
  },
  {
   "cell_type": "code",
   "execution_count": 97,
   "id": "0f58284b",
   "metadata": {},
   "outputs": [
    {
     "data": {
      "text/plain": [
       "'Prof. Dr. Mohammad Dastbaz…'"
      ]
     },
     "execution_count": 97,
     "metadata": {},
     "output_type": "execute_result"
    }
   ],
   "source": [
    "authors = auth_tag[0].text.strip()\n",
    "authors"
   ]
  },
  {
   "cell_type": "code",
   "execution_count": 98,
   "id": "a59bf43d",
   "metadata": {},
   "outputs": [
    {
     "data": {
      "text/plain": [
       "[<span class=\"year\" title=\"2019\">(2019)</span>]"
      ]
     },
     "execution_count": 98,
     "metadata": {},
     "output_type": "execute_result"
    }
   ],
   "source": [
    "    year_tag = article_tag.find_all('span', class_= 'year')\n",
    "    year_tag"
   ]
  },
  {
   "cell_type": "code",
   "execution_count": 99,
   "id": "4331a431",
   "metadata": {},
   "outputs": [
    {
     "data": {
      "text/plain": [
       "'(2019)'"
      ]
     },
     "execution_count": 99,
     "metadata": {},
     "output_type": "execute_result"
    }
   ],
   "source": [
    "year = year_tag[0].text.strip()\n",
    "year"
   ]
  },
  {
   "cell_type": "markdown",
   "id": "c587f0ab",
   "metadata": {},
   "source": [
    "Lets use the above code and write a function to reterieve all the papers details such as Paper Title, Author name, year of publication and url link.\n",
    "\n",
    "\n",
    "We given name **parse_article() function** which takes the article as input and provides the information such as paper title, authors name, year of publication, and url link.\n",
    "\n",
    "We are using the above code and a dictionary to store these information .\n"
   ]
  },
  {
   "cell_type": "code",
   "execution_count": 100,
   "id": "0e140717",
   "metadata": {},
   "outputs": [],
   "source": [
    "def parse_articles(article_tag):\n",
    "    # <a> tags containing username, repository name and URL\n",
    "    a_tags = article_tag.h2.find_all('a')\n",
    "    auth_tag = article_tag.find_all('span', class_='authors')    \n",
    "    title_name = a_tags[0].text.strip()\n",
    "    # Repository name\n",
    "    authors_name = auth_tag[0].text.strip() \n",
    "    year_tag = article_tag.find_all('span', class_= 'year')\n",
    "    year = year_tag[0].text.strip()\n",
    "    pep_url = base_pep_url + a_tag[0]['href'].strip()\n",
    "    # Return a dictionary\n",
    "    return {\n",
    "        'Paper Title': title_name,\n",
    "        'Authors': authors_name,        \n",
    "        'Year of Publication': year,\n",
    "        'repository_url': pep_url\n",
    "    }"
   ]
  },
  {
   "cell_type": "code",
   "execution_count": 101,
   "id": "fd96c042",
   "metadata": {},
   "outputs": [
    {
     "data": {
      "text/plain": [
       "{'Paper Title': 'Smart Agents for the Industry 4.0',\n",
       " 'Authors': 'Max Hoffmann',\n",
       " 'Year of Publication': '(2019)',\n",
       " 'repository_url': 'https://link.springer.com/book/10.1007/978-981-13-8165-2'}"
      ]
     },
     "execution_count": 101,
     "metadata": {},
     "output_type": "execute_result"
    }
   ],
   "source": [
    "parse_articles(article_tags[4])"
   ]
  },
  {
   "cell_type": "markdown",
   "id": "822c5d5c",
   "metadata": {},
   "source": [
    "Lets try to get other article information."
   ]
  },
  {
   "cell_type": "code",
   "execution_count": 102,
   "id": "0efd98de",
   "metadata": {
    "scrolled": true
   },
   "outputs": [
    {
     "data": {
      "text/plain": [
       "{'Paper Title': 'Contemporary Challenges in Cooperation and Coopetition in the Age of Industry 4.0',\n",
       " 'Authors': 'Agnieszka Zakrzewska-Bielawska…',\n",
       " 'Year of Publication': '(2020)',\n",
       " 'repository_url': 'https://link.springer.com/book/10.1007/978-981-13-8165-2'}"
      ]
     },
     "execution_count": 102,
     "metadata": {},
     "output_type": "execute_result"
    }
   ],
   "source": [
    "parse_articles(article_tags[10])"
   ]
  },
  {
   "cell_type": "markdown",
   "id": "d71a231b",
   "metadata": {},
   "source": [
    "Now lets automate and get all the paper or get the top 10 or whatever number papers you want to get using the get_top_papers()\n",
    "\n",
    "get_top_papers function takes topic name and returns all the required information available on the perticular page"
   ]
  },
  {
   "cell_type": "code",
   "execution_count": 103,
   "id": "50006334",
   "metadata": {},
   "outputs": [],
   "source": [
    "# Getting the top search papers \n",
    "def get_top_papers(topic):\n",
    "    article_tags = doc.find_all('div', class_='text')\n",
    "    topic_repos = [parse_articles(tag) for tag in article_tags]\n",
    "    return topic_repos"
   ]
  },
  {
   "cell_type": "code",
   "execution_count": 104,
   "id": "142f97af",
   "metadata": {},
   "outputs": [
    {
     "name": "stdout",
     "output_type": "stream",
     "text": [
      "https://link.springer.com/search?query=Machine+Learning\n"
     ]
    },
    {
     "data": {
      "text/plain": [
       "[{'Paper Title': 'Industry 4.0',\n",
       "  'Authors': 'Alasdair Gilchrist',\n",
       "  'Year of Publication': '(2016)',\n",
       "  'repository_url': 'https://link.springer.com/book/10.1007/978-981-13-8165-2'},\n",
       " {'Paper Title': 'Industry 4.0',\n",
       "  'Authors': 'Tessaleno Devezas,\\n    João Leitão,\\n    Askar Sarygulov',\n",
       "  'Year of Publication': '(2017)',\n",
       "  'repository_url': 'https://link.springer.com/book/10.1007/978-981-13-8165-2'},\n",
       " {'Paper Title': 'Industry 4.0',\n",
       "  'Authors': 'Dr. Kaushik Kumar,\\n    Divya Zindani,\\n    Dr. J. Paulo Davim',\n",
       "  'Year of Publication': '(2019)',\n",
       "  'repository_url': 'https://link.springer.com/book/10.1007/978-981-13-8165-2'},\n",
       " {'Paper Title': 'A Digital Framework for Industry 4.0',\n",
       "  'Authors': 'Dr. Ana Landeta Echeberria',\n",
       "  'Year of Publication': '(2020)',\n",
       "  'repository_url': 'https://link.springer.com/book/10.1007/978-981-13-8165-2'},\n",
       " {'Paper Title': 'Smart Agents for the Industry 4.0',\n",
       "  'Authors': 'Max Hoffmann',\n",
       "  'Year of Publication': '(2019)',\n",
       "  'repository_url': 'https://link.springer.com/book/10.1007/978-981-13-8165-2'},\n",
       " {'Paper Title': 'The Concept Industry 4.0',\n",
       "  'Authors': 'Christoph Jan Bartodziej',\n",
       "  'Year of Publication': '(2017)',\n",
       "  'repository_url': 'https://link.springer.com/book/10.1007/978-981-13-8165-2'},\n",
       " {'Paper Title': 'Industry 4.0 in Textile Production',\n",
       "  'Authors': 'Prof. Dr. Yves-Simon Gloy',\n",
       "  'Year of Publication': '(2021)',\n",
       "  'repository_url': 'https://link.springer.com/book/10.1007/978-981-13-8165-2'},\n",
       " {'Paper Title': 'Industry 4.0 and Engineering for a Sustainable Future',\n",
       "  'Authors': 'Prof. Dr. Mohammad Dastbaz…',\n",
       "  'Year of Publication': '(2019)',\n",
       "  'repository_url': 'https://link.springer.com/book/10.1007/978-981-13-8165-2'},\n",
       " {'Paper Title': 'CT Scan Generated Material Twins for Composites Manufacturing in Industry 4.0',\n",
       "  'Authors': 'Dr. Muhammad A. Ali…',\n",
       "  'Year of Publication': '(2020)',\n",
       "  'repository_url': 'https://link.springer.com/book/10.1007/978-981-13-8165-2'},\n",
       " {'Paper Title': 'Applications of Artificial Intelligence Techniques in Industry 4.0',\n",
       "  'Authors': 'Prof. Dr. Aydin Azizi',\n",
       "  'Year of Publication': '(2019)',\n",
       "  'repository_url': 'https://link.springer.com/book/10.1007/978-981-13-8165-2'}]"
      ]
     },
     "execution_count": 104,
     "metadata": {},
     "output_type": "execute_result"
    }
   ],
   "source": [
    "machine_learning = get_topic_springer('Machine+Learning')\n",
    "top_papers_ml = get_top_papers(machine_learning)\n",
    "top_papers_ml[:10]"
   ]
  },
  {
   "cell_type": "markdown",
   "id": "2f07d195",
   "metadata": {},
   "source": [
    "# 4. Writing parsed information into CSV files\n"
   ]
  },
  {
   "cell_type": "markdown",
   "id": "0302c8fc",
   "metadata": {},
   "source": [
    "By helper function we can list dictionaries and writes them to a CSV file."
   ]
  },
  {
   "cell_type": "code",
   "execution_count": 106,
   "id": "99df0b0a",
   "metadata": {},
   "outputs": [
    {
     "name": "stdout",
     "output_type": "stream",
     "text": [
      "https://link.springer.com/search?query=Machine+Learning\n"
     ]
    },
    {
     "data": {
      "text/html": [
       "<div>\n",
       "<style scoped>\n",
       "    .dataframe tbody tr th:only-of-type {\n",
       "        vertical-align: middle;\n",
       "    }\n",
       "\n",
       "    .dataframe tbody tr th {\n",
       "        vertical-align: top;\n",
       "    }\n",
       "\n",
       "    .dataframe thead th {\n",
       "        text-align: right;\n",
       "    }\n",
       "</style>\n",
       "<table border=\"1\" class=\"dataframe\">\n",
       "  <thead>\n",
       "    <tr style=\"text-align: right;\">\n",
       "      <th></th>\n",
       "      <th>Paper Title</th>\n",
       "      <th>Authors</th>\n",
       "      <th>Year of Publication</th>\n",
       "      <th>repository_url</th>\n",
       "    </tr>\n",
       "  </thead>\n",
       "  <tbody>\n",
       "    <tr>\n",
       "      <th>0</th>\n",
       "      <td>Industry 4.0</td>\n",
       "      <td>Alasdair Gilchrist</td>\n",
       "      <td>(2016)</td>\n",
       "      <td>https://link.springer.com/book/10.1007/978-981...</td>\n",
       "    </tr>\n",
       "    <tr>\n",
       "      <th>1</th>\n",
       "      <td>Industry 4.0</td>\n",
       "      <td>Tessaleno Devezas</td>\n",
       "      <td>NaN</td>\n",
       "      <td>NaN</td>\n",
       "    </tr>\n",
       "    <tr>\n",
       "      <th>2</th>\n",
       "      <td>João Leitão</td>\n",
       "      <td>NaN</td>\n",
       "      <td>NaN</td>\n",
       "      <td>NaN</td>\n",
       "    </tr>\n",
       "    <tr>\n",
       "      <th>3</th>\n",
       "      <td>Askar Sarygulov</td>\n",
       "      <td>(2017)</td>\n",
       "      <td>https://link.springer.com/book/10.1007/978-981...</td>\n",
       "      <td>NaN</td>\n",
       "    </tr>\n",
       "    <tr>\n",
       "      <th>4</th>\n",
       "      <td>Industry 4.0</td>\n",
       "      <td>Dr. Kaushik Kumar</td>\n",
       "      <td>NaN</td>\n",
       "      <td>NaN</td>\n",
       "    </tr>\n",
       "    <tr>\n",
       "      <th>5</th>\n",
       "      <td>Divya Zindani</td>\n",
       "      <td>NaN</td>\n",
       "      <td>NaN</td>\n",
       "      <td>NaN</td>\n",
       "    </tr>\n",
       "    <tr>\n",
       "      <th>6</th>\n",
       "      <td>Dr. J. Paulo Davim</td>\n",
       "      <td>(2019)</td>\n",
       "      <td>https://link.springer.com/book/10.1007/978-981...</td>\n",
       "      <td>NaN</td>\n",
       "    </tr>\n",
       "    <tr>\n",
       "      <th>7</th>\n",
       "      <td>A Digital Framework for Industry 4.0</td>\n",
       "      <td>Dr. Ana Landeta Echeberria</td>\n",
       "      <td>(2020)</td>\n",
       "      <td>https://link.springer.com/book/10.1007/978-981...</td>\n",
       "    </tr>\n",
       "    <tr>\n",
       "      <th>8</th>\n",
       "      <td>Smart Agents for the Industry 4.0</td>\n",
       "      <td>Max Hoffmann</td>\n",
       "      <td>(2019)</td>\n",
       "      <td>https://link.springer.com/book/10.1007/978-981...</td>\n",
       "    </tr>\n",
       "    <tr>\n",
       "      <th>9</th>\n",
       "      <td>The Concept Industry 4.0</td>\n",
       "      <td>Christoph Jan Bartodziej</td>\n",
       "      <td>(2017)</td>\n",
       "      <td>https://link.springer.com/book/10.1007/978-981...</td>\n",
       "    </tr>\n",
       "    <tr>\n",
       "      <th>10</th>\n",
       "      <td>Industry 4.0 in Textile Production</td>\n",
       "      <td>Prof. Dr. Yves-Simon Gloy</td>\n",
       "      <td>(2021)</td>\n",
       "      <td>https://link.springer.com/book/10.1007/978-981...</td>\n",
       "    </tr>\n",
       "    <tr>\n",
       "      <th>11</th>\n",
       "      <td>Industry 4.0 and Engineering for a Sustainable...</td>\n",
       "      <td>Prof. Dr. Mohammad Dastbaz…</td>\n",
       "      <td>(2019)</td>\n",
       "      <td>https://link.springer.com/book/10.1007/978-981...</td>\n",
       "    </tr>\n",
       "    <tr>\n",
       "      <th>12</th>\n",
       "      <td>CT Scan Generated Material Twins for Composite...</td>\n",
       "      <td>Dr. Muhammad A. Ali…</td>\n",
       "      <td>(2020)</td>\n",
       "      <td>https://link.springer.com/book/10.1007/978-981...</td>\n",
       "    </tr>\n",
       "    <tr>\n",
       "      <th>13</th>\n",
       "      <td>Applications of Artificial Intelligence Techni...</td>\n",
       "      <td>Prof. Dr. Aydin Azizi</td>\n",
       "      <td>(2019)</td>\n",
       "      <td>https://link.springer.com/book/10.1007/978-981...</td>\n",
       "    </tr>\n",
       "    <tr>\n",
       "      <th>14</th>\n",
       "      <td>Contemporary Challenges in Cooperation and Coo...</td>\n",
       "      <td>Agnieszka Zakrzewska-Bielawska…</td>\n",
       "      <td>(2020)</td>\n",
       "      <td>https://link.springer.com/book/10.1007/978-981...</td>\n",
       "    </tr>\n",
       "    <tr>\n",
       "      <th>15</th>\n",
       "      <td>Simulation for Industry 4.0</td>\n",
       "      <td>Dr. Murat M. Gunal</td>\n",
       "      <td>(2019)</td>\n",
       "      <td>https://link.springer.com/book/10.1007/978-981...</td>\n",
       "    </tr>\n",
       "    <tr>\n",
       "      <th>16</th>\n",
       "      <td>Enabling Systems for Intelligent Manufacturing...</td>\n",
       "      <td>Dr. Arturo Molina…</td>\n",
       "      <td>(2021)</td>\n",
       "      <td>https://link.springer.com/book/10.1007/978-981...</td>\n",
       "    </tr>\n",
       "    <tr>\n",
       "      <th>17</th>\n",
       "      <td>New Paradigm of Industry 4.0</td>\n",
       "      <td>Prof. Dr. Srikanta Patnaik</td>\n",
       "      <td>(2020)</td>\n",
       "      <td>https://link.springer.com/book/10.1007/978-981...</td>\n",
       "    </tr>\n",
       "  </tbody>\n",
       "</table>\n",
       "</div>"
      ],
      "text/plain": [
       "                                          Paper Title  \\\n",
       "0                                        Industry 4.0   \n",
       "1                                        Industry 4.0   \n",
       "2                                         João Leitão   \n",
       "3                                     Askar Sarygulov   \n",
       "4                                        Industry 4.0   \n",
       "5                                       Divya Zindani   \n",
       "6                                  Dr. J. Paulo Davim   \n",
       "7                A Digital Framework for Industry 4.0   \n",
       "8                   Smart Agents for the Industry 4.0   \n",
       "9                            The Concept Industry 4.0   \n",
       "10                 Industry 4.0 in Textile Production   \n",
       "11  Industry 4.0 and Engineering for a Sustainable...   \n",
       "12  CT Scan Generated Material Twins for Composite...   \n",
       "13  Applications of Artificial Intelligence Techni...   \n",
       "14  Contemporary Challenges in Cooperation and Coo...   \n",
       "15                        Simulation for Industry 4.0   \n",
       "16  Enabling Systems for Intelligent Manufacturing...   \n",
       "17                       New Paradigm of Industry 4.0   \n",
       "\n",
       "                            Authors  \\\n",
       "0                Alasdair Gilchrist   \n",
       "1                 Tessaleno Devezas   \n",
       "2                               NaN   \n",
       "3                            (2017)   \n",
       "4                 Dr. Kaushik Kumar   \n",
       "5                               NaN   \n",
       "6                            (2019)   \n",
       "7        Dr. Ana Landeta Echeberria   \n",
       "8                      Max Hoffmann   \n",
       "9          Christoph Jan Bartodziej   \n",
       "10        Prof. Dr. Yves-Simon Gloy   \n",
       "11      Prof. Dr. Mohammad Dastbaz…   \n",
       "12             Dr. Muhammad A. Ali…   \n",
       "13            Prof. Dr. Aydin Azizi   \n",
       "14  Agnieszka Zakrzewska-Bielawska…   \n",
       "15               Dr. Murat M. Gunal   \n",
       "16               Dr. Arturo Molina…   \n",
       "17       Prof. Dr. Srikanta Patnaik   \n",
       "\n",
       "                                  Year of Publication  \\\n",
       "0                                              (2016)   \n",
       "1                                                 NaN   \n",
       "2                                                 NaN   \n",
       "3   https://link.springer.com/book/10.1007/978-981...   \n",
       "4                                                 NaN   \n",
       "5                                                 NaN   \n",
       "6   https://link.springer.com/book/10.1007/978-981...   \n",
       "7                                              (2020)   \n",
       "8                                              (2019)   \n",
       "9                                              (2017)   \n",
       "10                                             (2021)   \n",
       "11                                             (2019)   \n",
       "12                                             (2020)   \n",
       "13                                             (2019)   \n",
       "14                                             (2020)   \n",
       "15                                             (2019)   \n",
       "16                                             (2021)   \n",
       "17                                             (2020)   \n",
       "\n",
       "                                       repository_url  \n",
       "0   https://link.springer.com/book/10.1007/978-981...  \n",
       "1                                                 NaN  \n",
       "2                                                 NaN  \n",
       "3                                                 NaN  \n",
       "4                                                 NaN  \n",
       "5                                                 NaN  \n",
       "6                                                 NaN  \n",
       "7   https://link.springer.com/book/10.1007/978-981...  \n",
       "8   https://link.springer.com/book/10.1007/978-981...  \n",
       "9   https://link.springer.com/book/10.1007/978-981...  \n",
       "10  https://link.springer.com/book/10.1007/978-981...  \n",
       "11  https://link.springer.com/book/10.1007/978-981...  \n",
       "12  https://link.springer.com/book/10.1007/978-981...  \n",
       "13  https://link.springer.com/book/10.1007/978-981...  \n",
       "14  https://link.springer.com/book/10.1007/978-981...  \n",
       "15  https://link.springer.com/book/10.1007/978-981...  \n",
       "16  https://link.springer.com/book/10.1007/978-981...  \n",
       "17  https://link.springer.com/book/10.1007/978-981...  "
      ]
     },
     "execution_count": 106,
     "metadata": {},
     "output_type": "execute_result"
    }
   ],
   "source": [
    "def write_paper_csv(items, path):\n",
    "    # Open the file in write mode\n",
    "    with open(path, 'w', encoding=\"utf-8\") as f:\n",
    "        # Return if there's nothing to write\n",
    "        if len(items) == 0:\n",
    "            return\n",
    "        \n",
    "        # Write the headers in the first line\n",
    "        headers = list(items[0].keys())\n",
    "        f.write(','.join(headers) + '\\n')\n",
    "        \n",
    "        # Write one item per line\n",
    "        for item in items:\n",
    "            values = []\n",
    "            for header in headers:\n",
    "                values.append(str(item.get(header, \"\")))\n",
    "            f.write(','.join(values) + \"\\n\")\n",
    "\n",
    "topic_page_ml = get_topic_springer('Machine+Learning')\n",
    "#len(topic_page_ml)\n",
    "\n",
    "top_pep = get_top_papers(topic_page_ml)\n",
    "#top_pep\n",
    "\n",
    "write_paper_csv(top_pep, 'Machine_Learning.csv')\n",
    "\n",
    "\n",
    "import pandas as pd\n",
    "spr_df = pd.read_csv('Machine_Learning.csv')\n",
    "spr_df"
   ]
  },
  {
   "cell_type": "markdown",
   "id": "c2186d8f",
   "metadata": {},
   "source": [
    "We are able to get Title of the paper, Name of the Authors, Year of Publication and url link for single page from Springer Science. The below screen shot shows the CSV file saved on location machine and the content of the CSV File.\n",
    "\n",
    "Already we have displayed the content of CSV using pandas.\n",
    "\n",
    "We can find the details of the CSV on the below screen shots.\n",
    "\n",
    "![](https://imgur.com/STgtzCd.jpg)\n",
    "![](https://imgur.com/VaHRyU0.jpg)"
   ]
  },
  {
   "cell_type": "code",
   "execution_count": 117,
   "id": "974e6128",
   "metadata": {
    "scrolled": true
   },
   "outputs": [
    {
     "data": {
      "text/html": [
       "<div>\n",
       "<style scoped>\n",
       "    .dataframe tbody tr th:only-of-type {\n",
       "        vertical-align: middle;\n",
       "    }\n",
       "\n",
       "    .dataframe tbody tr th {\n",
       "        vertical-align: top;\n",
       "    }\n",
       "\n",
       "    .dataframe thead th {\n",
       "        text-align: right;\n",
       "    }\n",
       "</style>\n",
       "<table border=\"1\" class=\"dataframe\">\n",
       "  <thead>\n",
       "    <tr style=\"text-align: right;\">\n",
       "      <th></th>\n",
       "      <th>Paper Title</th>\n",
       "      <th>Authors</th>\n",
       "      <th>Year of Publication</th>\n",
       "      <th>repository_url</th>\n",
       "    </tr>\n",
       "  </thead>\n",
       "  <tbody>\n",
       "    <tr>\n",
       "      <th>13</th>\n",
       "      <td>Applications of Artificial Intelligence Techni...</td>\n",
       "      <td>Prof. Dr. Aydin Azizi</td>\n",
       "      <td>(2019)</td>\n",
       "      <td>https://link.springer.com/book/10.1007/978-981...</td>\n",
       "    </tr>\n",
       "    <tr>\n",
       "      <th>14</th>\n",
       "      <td>Contemporary Challenges in Cooperation and Coo...</td>\n",
       "      <td>Agnieszka Zakrzewska-Bielawska…</td>\n",
       "      <td>(2020)</td>\n",
       "      <td>https://link.springer.com/book/10.1007/978-981...</td>\n",
       "    </tr>\n",
       "    <tr>\n",
       "      <th>15</th>\n",
       "      <td>Simulation for Industry 4.0</td>\n",
       "      <td>Dr. Murat M. Gunal</td>\n",
       "      <td>(2019)</td>\n",
       "      <td>https://link.springer.com/book/10.1007/978-981...</td>\n",
       "    </tr>\n",
       "    <tr>\n",
       "      <th>16</th>\n",
       "      <td>Enabling Systems for Intelligent Manufacturing...</td>\n",
       "      <td>Dr. Arturo Molina…</td>\n",
       "      <td>(2021)</td>\n",
       "      <td>https://link.springer.com/book/10.1007/978-981...</td>\n",
       "    </tr>\n",
       "    <tr>\n",
       "      <th>17</th>\n",
       "      <td>New Paradigm of Industry 4.0</td>\n",
       "      <td>Prof. Dr. Srikanta Patnaik</td>\n",
       "      <td>(2020)</td>\n",
       "      <td>https://link.springer.com/book/10.1007/978-981...</td>\n",
       "    </tr>\n",
       "  </tbody>\n",
       "</table>\n",
       "</div>"
      ],
      "text/plain": [
       "                                          Paper Title  \\\n",
       "13  Applications of Artificial Intelligence Techni...   \n",
       "14  Contemporary Challenges in Cooperation and Coo...   \n",
       "15                        Simulation for Industry 4.0   \n",
       "16  Enabling Systems for Intelligent Manufacturing...   \n",
       "17                       New Paradigm of Industry 4.0   \n",
       "\n",
       "                            Authors Year of Publication  \\\n",
       "13            Prof. Dr. Aydin Azizi              (2019)   \n",
       "14  Agnieszka Zakrzewska-Bielawska…              (2020)   \n",
       "15               Dr. Murat M. Gunal              (2019)   \n",
       "16               Dr. Arturo Molina…              (2021)   \n",
       "17       Prof. Dr. Srikanta Patnaik              (2020)   \n",
       "\n",
       "                                       repository_url  \n",
       "13  https://link.springer.com/book/10.1007/978-981...  \n",
       "14  https://link.springer.com/book/10.1007/978-981...  \n",
       "15  https://link.springer.com/book/10.1007/978-981...  \n",
       "16  https://link.springer.com/book/10.1007/978-981...  \n",
       "17  https://link.springer.com/book/10.1007/978-981...  "
      ]
     },
     "execution_count": 117,
     "metadata": {},
     "output_type": "execute_result"
    }
   ],
   "source": [
    "spr_df.tail()"
   ]
  },
  {
   "cell_type": "code",
   "execution_count": 129,
   "id": "996b46cc",
   "metadata": {},
   "outputs": [
    {
     "data": {
      "application/javascript": [
       "window.require && require([\"base/js/namespace\"],function(Jupyter){Jupyter.notebook.save_checkpoint()})"
      ],
      "text/plain": [
       "<IPython.core.display.Javascript object>"
      ]
     },
     "metadata": {},
     "output_type": "display_data"
    },
    {
     "name": "stdout",
     "output_type": "stream",
     "text": [
      "[jovian] Committed successfully! https://jovian.ai/mohammed-shahid920/webscrapping-project-1\r\n"
     ]
    },
    {
     "data": {
      "text/plain": [
       "'https://jovian.ai/mohammed-shahid920/webscrapping-project-1'"
      ]
     },
     "execution_count": 129,
     "metadata": {},
     "output_type": "execute_result"
    }
   ],
   "source": [
    "jovian.commit()"
   ]
  },
  {
   "cell_type": "markdown",
   "id": "632f51c5",
   "metadata": {},
   "source": [
    "# Summary\n",
    "\n",
    "\n",
    "Finally, we have managed to parse 'Springer Webiste' to get our hands on very interesting and insightful data when it comes to the books, journals, videos.\n",
    "\n",
    "We have saved all the information we could extract from that website for our needs in a CSV file."
   ]
  },
  {
   "cell_type": "markdown",
   "id": "033296af",
   "metadata": {},
   "source": [
    "## References\n",
    "\n",
    "\n",
    "[1] Python offical documentation. https://docs.python.org/3/\n",
    "\n",
    "\n",
    "[2] Requests library. https://pypi.org/project/requests/\n",
    "\n",
    "\n",
    "[3] Beautiful Soup documentation. https://www.crummy.com/software/BeautifulSoup/bs4/doc/\n",
    "\n",
    "\n",
    "[4] Aakash N S, Introduction to Web Scraping, 2021. https://jovian.ai/aakashns/python-web-scraping-and-rest-api\n",
    "\n",
    "\n",
    "[5] Pandas library documentation. https://pandas.pydata.org/docs/\n",
    "\n",
    "\n",
    "[6] Springer Site. https://link.springer.com/\n",
    "\n",
    "\n",
    "[7] Web Scraping Article. https://www.toptal.com/python/web-scraping-with-python\n"
   ]
  },
  {
   "cell_type": "code",
   "execution_count": 142,
   "id": "bcfb03cd",
   "metadata": {},
   "outputs": [
    {
     "data": {
      "application/javascript": [
       "window.require && require([\"base/js/namespace\"],function(Jupyter){Jupyter.notebook.save_checkpoint()})"
      ],
      "text/plain": [
       "<IPython.core.display.Javascript object>"
      ]
     },
     "metadata": {},
     "output_type": "display_data"
    },
    {
     "name": "stdout",
     "output_type": "stream",
     "text": [
      "[jovian] Updating notebook \"mohammed-shahid920/webscrapping-project-1\" on https://jovian.ai/\n",
      "[jovian] Committed successfully! https://jovian.ai/mohammed-shahid920/webscrapping-project-1\n"
     ]
    },
    {
     "data": {
      "text/plain": [
       "'https://jovian.ai/mohammed-shahid920/webscrapping-project-1'"
      ]
     },
     "execution_count": 142,
     "metadata": {},
     "output_type": "execute_result"
    }
   ],
   "source": [
    "jovian.commit()"
   ]
  },
  {
   "cell_type": "code",
   "execution_count": null,
   "id": "fd664441",
   "metadata": {},
   "outputs": [],
   "source": []
  }
 ],
 "metadata": {
  "language_info": {
   "codemirror_mode": {
    "name": "ipython",
    "version": 3
   },
   "file_extension": ".py",
   "mimetype": "text/x-python",
   "name": "python",
   "nbconvert_exporter": "python",
   "pygments_lexer": "ipython3",
   "version": "3.9.7"
  }
 },
 "nbformat": 4,
 "nbformat_minor": 5
}